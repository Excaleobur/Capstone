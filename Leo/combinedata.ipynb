{
 "cells": [
  {
   "cell_type": "code",
   "execution_count": 9,
   "metadata": {},
   "outputs": [],
   "source": [
    "# code to import datasets and combine them into one dataset\n",
    "\n",
    "import pandas as pd\n",
    "import numpy as np"
   ]
  },
  {
   "cell_type": "code",
   "execution_count": 12,
   "metadata": {},
   "outputs": [],
   "source": [
    "# import ncaa datasets\n",
    "df1 = pd.read_csv('ncaadata/2015.csv')\n",
    "df2 = pd.read_csv('ncaadata/2016.csv')\n",
    "df3 = pd.read_csv('ncaadata/2017.csv')\n",
    "df4 = pd.read_csv('ncaadata/2018.csv')\n",
    "df5 = pd.read_csv('ncaadata/2019.csv')\n",
    "df6 = pd.read_csv('ncaadata/2020.csv')\n",
    "df7 = pd.read_csv('ncaadata/2021.csv')\n",
    "df8 = pd.read_csv('ncaadata/2022.csv')\n",
    "df9 = pd.read_csv('ncaadata/2023.csv')\n",
    "\n",
    "# combine ncaa datasets\n",
    "\n",
    "df = pd.concat([df1, df2, df3, df4, df5, df6, df7, df8, df9], axis=0)\n",
    "df.to_csv('allncaacombined.csv', index=False)\n",
    "\n",
    "# grouped ncaa names together\n",
    "sorteddf = df.sort_values(by='player')\n",
    "sorteddf.to_csv('allncaadatagrouped.csv', index=False)"
   ]
  },
  {
   "cell_type": "code",
   "execution_count": 13,
   "metadata": {},
   "outputs": [],
   "source": [
    "# import nfl datasets\n",
    "\n",
    "df1 = pd.read_csv('nfldata/2015.csv')\n",
    "df2 = pd.read_csv('nfldata/2016.csv')\n",
    "df3 = pd.read_csv('nfldata/2017.csv')\n",
    "df4 = pd.read_csv('nfldata/2018.csv')\n",
    "df5 = pd.read_csv('nfldata/2019.csv')\n",
    "df6 = pd.read_csv('nfldata/2020.csv')\n",
    "df7 = pd.read_csv('nfldata/2021.csv')\n",
    "df8 = pd.read_csv('nfldata/2022.csv')\n",
    "df9 = pd.read_csv('nfldata/2023.csv')\n",
    "\n",
    "# combine nfl datasets\n",
    "\n",
    "df = pd.concat([df1, df2, df3, df4, df5, df6, df7, df8, df9], axis=0)\n",
    "df.to_csv('allnflcombined.csv', index=False)\n",
    "\n",
    "# grouped ncaa names together\n",
    "sorteddf = df.sort_values(by='player')\n",
    "sorteddf.to_csv('allnfldatagrouped.csv', index=False)"
   ]
  },
  {
   "cell_type": "code",
   "execution_count": 14,
   "metadata": {},
   "outputs": [],
   "source": [
    "# adding a 1 to ncaa players whos names are in the nfl dataset\n",
    "\n",
    "ncaa = pd.read_csv('allncaadatagrouped.csv')\n",
    "nfl = pd.read_csv('allnfldatagrouped.csv')\n",
    "\n",
    "# add new column nfl to ncaa dataset where its a 1 if the player is in the nfl dataset and 0 if not\n",
    "ncaa['nfl'] = np.where(ncaa['player'].isin(nfl['player']), 1, 0)\n",
    "ncaa.to_csv('finalncaa.csv', index=False)"
   ]
  },
  {
   "cell_type": "code",
   "execution_count": 20,
   "metadata": {},
   "outputs": [],
   "source": [
    "from sklearn.preprocessing import MinMaxScaler\n",
    "\n",
    "# normalize all columns except for player, position, and team name, but keep the columns in the final csv dataset\n",
    "# Load the dataset\n",
    "ncaa = pd.read_csv('finalncaa.csv')\n",
    "\n",
    "# Columns that you do not want to normalize\n",
    "non_normalized_columns = ['player', 'position', 'team_name']\n",
    "\n",
    "# Extract the columns that you don't want to normalize\n",
    "non_normalized_data = ncaa[non_normalized_columns]\n",
    "\n",
    "# Columns to be normalized\n",
    "columns_to_normalize = ncaa.columns.difference(non_normalized_columns)\n",
    "\n",
    "# Initialize MinMaxScaler\n",
    "scaler = MinMaxScaler()\n",
    "\n",
    "# Normalize the columns in the dataframe\n",
    "normalized_data = pd.DataFrame(scaler.fit_transform(ncaa[columns_to_normalize]), columns=columns_to_normalize)\n",
    "\n",
    "# Merge non-normalized and normalized data\n",
    "ncaa_normalized = pd.concat([non_normalized_data, normalized_data], axis=1)\n",
    "\n",
    "ncaa_normalized.drop(\"player_id\", axis=1, inplace=True)\n",
    "\n",
    "ncaa_normalized.to_csv('finalnormalizedncaa.csv', index=False)\n",
    "\n"
   ]
  },
  {
   "cell_type": "code",
   "execution_count": 22,
   "metadata": {},
   "outputs": [
    {
     "name": "stdout",
     "output_type": "stream",
     "text": [
      "Accuracy: 0.90\n"
     ]
    },
    {
     "name": "stderr",
     "output_type": "stream",
     "text": [
      "c:\\Users\\leopa\\AppData\\Local\\Programs\\Python\\Python311\\Lib\\site-packages\\sklearn\\linear_model\\_logistic.py:460: ConvergenceWarning: lbfgs failed to converge (status=1):\n",
      "STOP: TOTAL NO. of ITERATIONS REACHED LIMIT.\n",
      "\n",
      "Increase the number of iterations (max_iter) or scale the data as shown in:\n",
      "    https://scikit-learn.org/stable/modules/preprocessing.html\n",
      "Please also refer to the documentation for alternative solver options:\n",
      "    https://scikit-learn.org/stable/modules/linear_model.html#logistic-regression\n",
      "  n_iter_i = _check_optimize_result(\n"
     ]
    }
   ],
   "source": [
    "# load in a basic premade logistic regression model to train on the finalnormalizedncaa dataset\n",
    "\n",
    "from sklearn.linear_model import LogisticRegression\n",
    "from sklearn.model_selection import train_test_split\n",
    "from sklearn.metrics import accuracy_score\n",
    "\n",
    "# Load the dataset\n",
    "ncaa = pd.read_csv('finalnormalizedncaa.csv')\n",
    "\n",
    "ncaa = ncaa.fillna(0)\n",
    "\n",
    "# Split the dataset into X and y\n",
    "X = ncaa.drop(['nfl', 'player', 'position', 'team_name'], axis=1)\n",
    "\n",
    "# Target variable\n",
    "y = ncaa['nfl']\n",
    "\n",
    "# Split the dataset into train and test\n",
    "X_train, X_test, y_train, y_test = train_test_split(X, y, test_size=0.2)\n",
    "\n",
    "# Initialize the model\n",
    "logistic_regression = LogisticRegression()\n",
    "\n",
    "# Fit the model\n",
    "logistic_regression.fit(X_train, y_train)\n",
    "\n",
    "# Predict the classes\n",
    "y_pred = logistic_regression.predict(X_test)\n",
    "\n",
    "# Calculate the accuracy\n",
    "accuracy = accuracy_score(y_test, y_pred)\n",
    "\n",
    "print('Accuracy: {:.2f}'.format(accuracy))\n",
    "\n"
   ]
  }
 ],
 "metadata": {
  "kernelspec": {
   "display_name": "Python 3",
   "language": "python",
   "name": "python3"
  },
  "language_info": {
   "codemirror_mode": {
    "name": "ipython",
    "version": 3
   },
   "file_extension": ".py",
   "mimetype": "text/x-python",
   "name": "python",
   "nbconvert_exporter": "python",
   "pygments_lexer": "ipython3",
   "version": "3.11.5"
  }
 },
 "nbformat": 4,
 "nbformat_minor": 2
}
