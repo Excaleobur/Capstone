{
 "cells": [
  {
   "cell_type": "code",
   "execution_count": 9,
   "metadata": {},
   "outputs": [],
   "source": [
    "# code to import datasets and combine them into one dataset\n",
    "\n",
    "import pandas as pd\n",
    "import numpy as np"
   ]
  },
  {
   "cell_type": "code",
   "execution_count": 12,
   "metadata": {},
   "outputs": [],
   "source": [
    "# import ncaa datasets\n",
    "df1 = pd.read_csv('ncaadata/2015.csv')\n",
    "df2 = pd.read_csv('ncaadata/2016.csv')\n",
    "df3 = pd.read_csv('ncaadata/2017.csv')\n",
    "df4 = pd.read_csv('ncaadata/2018.csv')\n",
    "df5 = pd.read_csv('ncaadata/2019.csv')\n",
    "df6 = pd.read_csv('ncaadata/2020.csv')\n",
    "df7 = pd.read_csv('ncaadata/2021.csv')\n",
    "df8 = pd.read_csv('ncaadata/2022.csv')\n",
    "df9 = pd.read_csv('ncaadata/2023.csv')\n",
    "\n",
    "# combine ncaa datasets\n",
    "\n",
    "df = pd.concat([df1, df2, df3, df4, df5, df6, df7, df8, df9], axis=0)\n",
    "df.to_csv('allncaacombined.csv', index=False)\n",
    "\n",
    "# grouped ncaa names together\n",
    "sorteddf = df.sort_values(by='player')\n",
    "sorteddf.to_csv('allncaadatagrouped.csv', index=False)"
   ]
  },
  {
   "cell_type": "code",
   "execution_count": 13,
   "metadata": {},
   "outputs": [],
   "source": [
    "# import nfl datasets\n",
    "\n",
    "df1 = pd.read_csv('nfldata/2015.csv')\n",
    "df2 = pd.read_csv('nfldata/2016.csv')\n",
    "df3 = pd.read_csv('nfldata/2017.csv')\n",
    "df4 = pd.read_csv('nfldata/2018.csv')\n",
    "df5 = pd.read_csv('nfldata/2019.csv')\n",
    "df6 = pd.read_csv('nfldata/2020.csv')\n",
    "df7 = pd.read_csv('nfldata/2021.csv')\n",
    "df8 = pd.read_csv('nfldata/2022.csv')\n",
    "df9 = pd.read_csv('nfldata/2023.csv')\n",
    "\n",
    "# combine nfl datasets\n",
    "\n",
    "df = pd.concat([df1, df2, df3, df4, df5, df6, df7, df8, df9], axis=0)\n",
    "df.to_csv('allnflcombined.csv', index=False)\n",
    "\n",
    "# grouped ncaa names together\n",
    "sorteddf = df.sort_values(by='player')\n",
    "sorteddf.to_csv('allnfldatagrouped.csv', index=False)"
   ]
  },
  {
   "cell_type": "code",
   "execution_count": null,
   "metadata": {},
   "outputs": [],
   "source": [
    "# adding a 1 to ncaa players whos names are in the nfl dataset\n",
    "\n",
    "ncaa = pd.read_csv('allncaadatagrouped.csv')\n",
    "nfl = pd.read_csv('allnfldatagrouped.csv')\n",
    "\n",
    "# add new column nfl to ncaa dataset where its a 1 if the player is in the nfl dataset and 0 if not\n",
    "ncaa['nfl'] = np.where(ncaa['player'].isin(nfl['player']), 1, 0)\n",
    "ncaa.to_csv('finalncaa.csv', index=False)"
   ]
  }
 ],
 "metadata": {
  "kernelspec": {
   "display_name": "Python 3",
   "language": "python",
   "name": "python3"
  },
  "language_info": {
   "codemirror_mode": {
    "name": "ipython",
    "version": 3
   },
   "file_extension": ".py",
   "mimetype": "text/x-python",
   "name": "python",
   "nbconvert_exporter": "python",
   "pygments_lexer": "ipython3",
   "version": "3.11.5"
  }
 },
 "nbformat": 4,
 "nbformat_minor": 2
}
